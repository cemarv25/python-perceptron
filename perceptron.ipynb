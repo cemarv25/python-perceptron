{
 "cells": [
  {
   "cell_type": "code",
   "execution_count": 54,
   "metadata": {},
   "outputs": [],
   "source": [
    "import pandas as pd\n",
    "import matplotlib.pyplot as plt\n",
    "import random"
   ]
  },
  {
   "cell_type": "markdown",
   "metadata": {},
   "source": [
    "## The Predict Function\n",
    "Based on adding all of the input's attributes, then assigning a classification (__1.0__ for _Positive Diabetes_ and __-1.0__ for _Negative Diabetes_).\n",
    "\n",
    "The first weight is a bias, which is not modified during the training."
   ]
  },
  {
   "cell_type": "code",
   "execution_count": 55,
   "metadata": {},
   "outputs": [],
   "source": [
    "def predict(row, weights):\n",
    "    result = weights[0]\n",
    "    for i in range(len(row)):\n",
    "        result += weights[i + 1] * row[i]\n",
    "\n",
    "    return 1.0 if result > 0.0 else -1.0"
   ]
  },
  {
   "cell_type": "markdown",
   "metadata": {},
   "source": [
    "## Loading the Dataset"
   ]
  },
  {
   "cell_type": "code",
   "execution_count": 56,
   "metadata": {},
   "outputs": [
    {
     "data": {
      "text/html": [
       "<div>\n",
       "<style scoped>\n",
       "    .dataframe tbody tr th:only-of-type {\n",
       "        vertical-align: middle;\n",
       "    }\n",
       "\n",
       "    .dataframe tbody tr th {\n",
       "        vertical-align: top;\n",
       "    }\n",
       "\n",
       "    .dataframe thead th {\n",
       "        text-align: right;\n",
       "    }\n",
       "</style>\n",
       "<table border=\"1\" class=\"dataframe\">\n",
       "  <thead>\n",
       "    <tr style=\"text-align: right;\">\n",
       "      <th></th>\n",
       "      <th>Pregnancies</th>\n",
       "      <th>Glucose</th>\n",
       "      <th>BloodPressure</th>\n",
       "      <th>SkinThickness</th>\n",
       "      <th>Insulin</th>\n",
       "      <th>BMI</th>\n",
       "      <th>DiabetesPedigreeFunction</th>\n",
       "      <th>Age</th>\n",
       "      <th>Outcome</th>\n",
       "    </tr>\n",
       "  </thead>\n",
       "  <tbody>\n",
       "    <tr>\n",
       "      <th>0</th>\n",
       "      <td>6</td>\n",
       "      <td>148</td>\n",
       "      <td>72</td>\n",
       "      <td>35</td>\n",
       "      <td>0</td>\n",
       "      <td>33.6</td>\n",
       "      <td>0.627</td>\n",
       "      <td>50</td>\n",
       "      <td>1</td>\n",
       "    </tr>\n",
       "    <tr>\n",
       "      <th>1</th>\n",
       "      <td>1</td>\n",
       "      <td>85</td>\n",
       "      <td>66</td>\n",
       "      <td>29</td>\n",
       "      <td>0</td>\n",
       "      <td>26.6</td>\n",
       "      <td>0.351</td>\n",
       "      <td>31</td>\n",
       "      <td>-1</td>\n",
       "    </tr>\n",
       "    <tr>\n",
       "      <th>2</th>\n",
       "      <td>8</td>\n",
       "      <td>183</td>\n",
       "      <td>64</td>\n",
       "      <td>0</td>\n",
       "      <td>0</td>\n",
       "      <td>23.3</td>\n",
       "      <td>0.672</td>\n",
       "      <td>32</td>\n",
       "      <td>1</td>\n",
       "    </tr>\n",
       "    <tr>\n",
       "      <th>3</th>\n",
       "      <td>1</td>\n",
       "      <td>89</td>\n",
       "      <td>66</td>\n",
       "      <td>23</td>\n",
       "      <td>94</td>\n",
       "      <td>28.1</td>\n",
       "      <td>0.167</td>\n",
       "      <td>21</td>\n",
       "      <td>-1</td>\n",
       "    </tr>\n",
       "    <tr>\n",
       "      <th>4</th>\n",
       "      <td>0</td>\n",
       "      <td>137</td>\n",
       "      <td>40</td>\n",
       "      <td>35</td>\n",
       "      <td>168</td>\n",
       "      <td>43.1</td>\n",
       "      <td>2.288</td>\n",
       "      <td>33</td>\n",
       "      <td>1</td>\n",
       "    </tr>\n",
       "    <tr>\n",
       "      <th>...</th>\n",
       "      <td>...</td>\n",
       "      <td>...</td>\n",
       "      <td>...</td>\n",
       "      <td>...</td>\n",
       "      <td>...</td>\n",
       "      <td>...</td>\n",
       "      <td>...</td>\n",
       "      <td>...</td>\n",
       "      <td>...</td>\n",
       "    </tr>\n",
       "    <tr>\n",
       "      <th>763</th>\n",
       "      <td>10</td>\n",
       "      <td>101</td>\n",
       "      <td>76</td>\n",
       "      <td>48</td>\n",
       "      <td>180</td>\n",
       "      <td>32.9</td>\n",
       "      <td>0.171</td>\n",
       "      <td>63</td>\n",
       "      <td>-1</td>\n",
       "    </tr>\n",
       "    <tr>\n",
       "      <th>764</th>\n",
       "      <td>2</td>\n",
       "      <td>122</td>\n",
       "      <td>70</td>\n",
       "      <td>27</td>\n",
       "      <td>0</td>\n",
       "      <td>36.8</td>\n",
       "      <td>0.340</td>\n",
       "      <td>27</td>\n",
       "      <td>-1</td>\n",
       "    </tr>\n",
       "    <tr>\n",
       "      <th>765</th>\n",
       "      <td>5</td>\n",
       "      <td>121</td>\n",
       "      <td>72</td>\n",
       "      <td>23</td>\n",
       "      <td>112</td>\n",
       "      <td>26.2</td>\n",
       "      <td>0.245</td>\n",
       "      <td>30</td>\n",
       "      <td>-1</td>\n",
       "    </tr>\n",
       "    <tr>\n",
       "      <th>766</th>\n",
       "      <td>1</td>\n",
       "      <td>126</td>\n",
       "      <td>60</td>\n",
       "      <td>0</td>\n",
       "      <td>0</td>\n",
       "      <td>30.1</td>\n",
       "      <td>0.349</td>\n",
       "      <td>47</td>\n",
       "      <td>1</td>\n",
       "    </tr>\n",
       "    <tr>\n",
       "      <th>767</th>\n",
       "      <td>1</td>\n",
       "      <td>93</td>\n",
       "      <td>70</td>\n",
       "      <td>31</td>\n",
       "      <td>0</td>\n",
       "      <td>30.4</td>\n",
       "      <td>0.315</td>\n",
       "      <td>23</td>\n",
       "      <td>-1</td>\n",
       "    </tr>\n",
       "  </tbody>\n",
       "</table>\n",
       "<p>768 rows × 9 columns</p>\n",
       "</div>"
      ],
      "text/plain": [
       "     Pregnancies   Glucose   BloodPressure   SkinThickness   Insulin   BMI    \\\n",
       "0               6       148              72              35         0   33.6   \n",
       "1               1        85              66              29         0   26.6   \n",
       "2               8       183              64               0         0   23.3   \n",
       "3               1        89              66              23        94   28.1   \n",
       "4               0       137              40              35       168   43.1   \n",
       "..            ...       ...             ...             ...       ...    ...   \n",
       "763            10       101              76              48       180   32.9   \n",
       "764             2       122              70              27         0   36.8   \n",
       "765             5       121              72              23       112   26.2   \n",
       "766             1       126              60               0         0   30.1   \n",
       "767             1        93              70              31         0   30.4   \n",
       "\n",
       "     DiabetesPedigreeFunction   Age   Outcome  \n",
       "0                        0.627    50        1  \n",
       "1                        0.351    31       -1  \n",
       "2                        0.672    32        1  \n",
       "3                        0.167    21       -1  \n",
       "4                        2.288    33        1  \n",
       "..                         ...   ...      ...  \n",
       "763                      0.171    63       -1  \n",
       "764                      0.340    27       -1  \n",
       "765                      0.245    30       -1  \n",
       "766                      0.349    47        1  \n",
       "767                      0.315    23       -1  \n",
       "\n",
       "[768 rows x 9 columns]"
      ]
     },
     "execution_count": 56,
     "metadata": {},
     "output_type": "execute_result"
    }
   ],
   "source": [
    "df = pd.read_csv('diabetes.csv')\n",
    "df.loc[df['Outcome'] == 0, 'Outcome'] = -1\n",
    "df"
   ]
  },
  {
   "cell_type": "markdown",
   "metadata": {},
   "source": [
    "## Dividing the dataset into train and test datasets\n",
    "The division is made using 80% of the dataset for training, and 20% for testing.\n",
    "\n",
    "The classification (the 'Outcome' column in the database) is also stored for later use."
   ]
  },
  {
   "cell_type": "code",
   "execution_count": 57,
   "metadata": {},
   "outputs": [],
   "source": [
    "test_pct = 0.2\n",
    "rows = df.shape[0]\n",
    "\n",
    "train_rows = round((1 - test_pct) * rows)\n",
    "\n",
    "train_df = df[:train_rows]\n",
    "test_df = df[train_rows:]\n",
    "expected_predictions = train_df['Outcome']"
   ]
  },
  {
   "cell_type": "markdown",
   "metadata": {},
   "source": [
    "## Setting the weights\n",
    "\n",
    "The same amount of weights as columns in the dataset.\n",
    "\n",
    "The first weight is a bias, which is not going to be modified. The remaining weights are assigned a random value between 0 and 3."
   ]
  },
  {
   "cell_type": "code",
   "execution_count": 58,
   "metadata": {},
   "outputs": [],
   "source": [
    "weights = [0] * len(df.columns)\n",
    "weights[0] = 0.5\n",
    "for i in range(1, len(weights)):\n",
    "    weights[i] = random.randrange(0, 3)\n"
   ]
  },
  {
   "cell_type": "markdown",
   "metadata": {},
   "source": [
    "## Training the model\n",
    "\n",
    "The outer _for_ represents the epochs that the training will last.\n",
    "Then, for each row in the dataset, a classification will be made using the [predict function](#The-Predict-Function) defined at the top.\n",
    "\n",
    "In the case where the prediction is incorrect, the weights are rebalanced using the following equation:\n",
    "$$w_i = w_i + (x_i * y)$$\n",
    "Where _i_ is the index of the attribute or column, _x_ is the row, and _y_ is the table's classification value for that row."
   ]
  },
  {
   "cell_type": "code",
   "execution_count": 59,
   "metadata": {},
   "outputs": [],
   "source": [
    "for _ in range(100):\n",
    "    for index, row in train_df.iterrows():\n",
    "        prediction = predict(row[:len(row) - 1], weights)\n",
    "        expected = expected_predictions[index]\n",
    "\n",
    "        if prediction != expected:\n",
    "            for i in range(len(row) - 1):\n",
    "                weights[i + 1] = weights[i + 1] + row[i] * expected\n"
   ]
  },
  {
   "cell_type": "markdown",
   "metadata": {},
   "source": [
    "## Testing the model\n",
    "\n",
    "For each row in the testing dataset, a classification is made using the predict function."
   ]
  },
  {
   "cell_type": "code",
   "execution_count": 60,
   "metadata": {},
   "outputs": [
    {
     "name": "stdout",
     "output_type": "stream",
     "text": [
      "\n",
      "----- Stats -----\n",
      "\tFinal weights: [0.5, 1566.0, 96.0, -323.0, -196.0, 158.0, 24.799999999998455, 543.1340000000054, -352.0]\n",
      "\tTotal correct predictions: 496\n",
      "\tTotal incorrect predictions: 272\n",
      "\tPercentage: 65%\n"
     ]
    }
   ],
   "source": [
    "correct = 0\n",
    "incorrect = 0\n",
    "expected_predictions = df['Outcome']\n",
    "for index, row in df.iterrows():\n",
    "    prediction = predict(row[:len(row) - 1], weights)\n",
    "    expected = expected_predictions[index]\n",
    "\n",
    "    if prediction == expected:\n",
    "        correct += 1\n",
    "        # print('Correct prediction')\n",
    "    else:\n",
    "        incorrect += 1\n",
    "        # print('Incorrect prediction')\n",
    "\n",
    "print('\\n----- Stats -----')\n",
    "print(f'\\tFinal weights: {weights}')\n",
    "print(f'\\tTotal correct predictions: {correct}')\n",
    "print(f'\\tTotal incorrect predictions: {incorrect}')\n",
    "print(f'\\tPercentage: {round((correct / (correct + incorrect)) * 100)}%')"
   ]
  },
  {
   "cell_type": "markdown",
   "metadata": {},
   "source": [
    "## Dataset Analysis"
   ]
  },
  {
   "cell_type": "code",
   "execution_count": null,
   "metadata": {},
   "outputs": [
    {
     "data": {
      "image/png": "[encoded data removed]",
      "text/plain": [
       "<Figure size 640x480 with 1 Axes>"
      ]
     },
     "metadata": {},
     "output_type": "display_data"
    }
   ],
   "source": [
    "plt.scatter(df['DiabetesPedigreeFunction '], df['Age '], c=df['Outcome'], cmap='bwr')\n",
    "plt.show()"
   ]
  },
  {
   "cell_type": "markdown",
   "metadata": {},
   "source": [
    "The dataset as plot using different combinations of columns for the _x_ and _y_ axis of the plot, and using blue and red coloring for the outcome.\n",
    "\n",
    "Analyzing the plots, we can see that there is a lot of noise, and the dataset cannot be divided using a single line, explaining the low rate of correct predictions."
   ]
  }
 ],
 "metadata": {
  "kernelspec": {
   "display_name": "Python 3.10.3 64-bit",
   "language": "python",
   "name": "python3"
  },
  "language_info": {
   "codemirror_mode": {
    "name": "ipython",
    "version": 3
   },
   "file_extension": ".py",
   "mimetype": "text/x-python",
   "name": "python",
   "nbconvert_exporter": "python",
   "pygments_lexer": "ipython3",
   "version": "3.10.3"
  },
  "orig_nbformat": 4,
  "vscode": {
   "interpreter": {
    "hash": "aee8b7b246df8f9039afb4144a1f6fd8d2ca17a180786b69acc140d282b71a49"
   }
  }
 },
 "nbformat": 4,
 "nbformat_minor": 2
}
